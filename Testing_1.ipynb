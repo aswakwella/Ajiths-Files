{
  "nbformat": 4,
  "nbformat_minor": 0,
  "metadata": {
    "colab": {
      "provenance": [],
      "collapsed_sections": [],
      "mount_file_id": "1INzLgde24e96oAI7mWNLYbxmi2_0HMAc",
      "authorship_tag": "ABX9TyPFCwyNCUnm780ZxBaxc5p/",
      "include_colab_link": true
    },
    "kernelspec": {
      "name": "python3",
      "display_name": "Python 3"
    },
    "language_info": {
      "name": "python"
    }
  },
  "cells": [
    {
      "cell_type": "markdown",
      "metadata": {
        "id": "view-in-github",
        "colab_type": "text"
      },
      "source": [
        "<a href=\"https://colab.research.google.com/github/aswakwella/Ajiths-Files/blob/main/Testing_1.ipynb\" target=\"_parent\"><img src=\"https://colab.research.google.com/assets/colab-badge.svg\" alt=\"Open In Colab\"/></a>"
      ]
    },
    {
      "cell_type": "code",
      "execution_count": null,
      "metadata": {
        "id": "XdHsts3pLpfg"
      },
      "outputs": [],
      "source": [
        "print(\"Hello\")"
      ]
    },
    {
      "cell_type": "code",
      "source": [
        "#from google.colab import drive\n",
        "#drive.mount('/content/drive')\n",
        "# Read the content written in text file\n",
        "#!ls /content/drive/MyDrive\n",
        "#%cd /content/drive/MyDrive\n",
        "file01 = open('/content/drive/MyDrive/Test1.txt', 'r') \n",
        "#file01.write(\"This is inside Test1.txt file\")\n",
        "print(file01.read())\n",
        "print(\"This worked ok\")\n",
        "print(\"\\n\"*3)\n",
        "\n",
        "#%cd /content/drive/MyDrive\n",
        "!ls\n",
        "!pwd\n",
        "#!ls -la\n"
      ],
      "metadata": {
        "colab": {
          "base_uri": "https://localhost:8080/"
        },
        "id": "2Z9-IHD-OUT_",
        "outputId": "e862f856-d993-4d4c-ee4f-aeb49662144e"
      },
      "execution_count": null,
      "outputs": [
        {
          "output_type": "stream",
          "name": "stdout",
          "text": [
            "This worked ok\n",
            "\n",
            "\n",
            "\n",
            "\n",
            "\"2020 Sakun's graduation\"\n",
            "'Colab Notebooks'\n",
            "'copy_E84 Family Gathering 2019_rev01.gsheet'\n",
            "'Copy of REGULAR INVOICE Template 2.gdoc'\n",
            " DSP_CHAN.TXT.gdoc\n",
            " DSP_PITC.TXT.gdoc\n",
            "'E84 Family Gathering 2019_rev05 10122019 (1).gsheet'\n",
            "'Home services'\n",
            " kasuns\n",
            " mis.txt.gdoc\n",
            "'My dats'\n",
            "'My seocond.ipynb'\n",
            "'REGULAR INVOICE Template.gdoc'\n",
            " Test1.txt\n",
            "'Untitled document.gdoc'\n",
            "/content/drive/MyDrive\n"
          ]
        }
      ]
    },
    {
      "cell_type": "markdown",
      "source": [
        "# New Section"
      ],
      "metadata": {
        "id": "EBbfI57wO06f"
      }
    },
    {
      "cell_type": "markdown",
      "source": [
        "testing text"
      ],
      "metadata": {
        "id": "cwk3a34OMjv9"
      }
    }
  ]
}